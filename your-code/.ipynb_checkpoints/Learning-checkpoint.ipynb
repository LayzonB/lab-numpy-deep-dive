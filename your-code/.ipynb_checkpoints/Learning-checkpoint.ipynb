{
 "cells": [
  {
   "cell_type": "markdown",
   "metadata": {},
   "source": [
    "# Introduction to Numpy\n",
    "\n",
    "Lesson Goals\n",
    "\n",
    "    Learn about Numpy data structures.\n",
    "    Extract data from Numpy arrays.\n",
    "    Convert other Python data structures to Numpy arrays.\n",
    "    Perform basic mathematical functions on arrays and elements.\n",
    "\n",
    "Introduction\n",
    "\n",
    "Many of the libraries you will use to perform data analysis in Python, as well as many of the mathematical functions you'll use, will involve working with Numpy. Numpy (short for Numerical Python) is used for numeric computing and includes support for multi-dimensional arrays and matrices along with a variety of mathematical functions to apply to them. In this lesson, we will learn about Numpy's primary data structures and how to apply some basic math functions to them.\n",
    "Importing Numpy\n",
    "\n",
    "In order to use Numpy, you must first import it. It is common to also alias it to np using the as keyword so that you don't have to spell out \"numpy\" every time you want to call one of its methods. "
   ]
  },
  {
   "cell_type": "code",
   "execution_count": 2,
   "metadata": {},
   "outputs": [],
   "source": [
    "import numpy as np"
   ]
  },
  {
   "cell_type": "markdown",
   "metadata": {},
   "source": [
    "Once the library has been imported, it is ready to use.\n",
    "Numpy Arrays\n",
    "\n",
    "The basic data structures in Numpy are arrays, which can be used to represent tabular data. You can think of arrays as lists of lists, where all the elements of a list are of the same type (typically numeric since the reason you use Numpy is to do numeric computing). A matrix is just a two-dimensional array.\n",
    "\n",
    "The size of an array is the total number of elements in every list. The shape of an array is the size of the array along each dimension (e.g. number of rows and number of columns for a two-dimensional array). Let's create a two dimensional 10 x 4 array containing random numbers and calculate the shape and size of the array using the shape and size methods. "
   ]
  },
  {
   "cell_type": "code",
   "execution_count": 18,
   "metadata": {},
   "outputs": [
    {
     "name": "stdout",
     "output_type": "stream",
     "text": [
      "[[0.47087206 0.59447713 0.56540381 0.48400101]\n",
      " [0.85092629 0.50672059 0.83628348 0.44406253]\n",
      " [0.6164351  0.31960953 0.81587606 0.21026337]\n",
      " [0.75841745 0.6042006  0.03395356 0.73577592]\n",
      " [0.35093649 0.59542745 0.91949546 0.53250527]\n",
      " [0.06765598 0.53774226 0.94026336 0.48862368]\n",
      " [0.83703934 0.42396402 0.27318407 0.19020203]\n",
      " [0.41361242 0.50503205 0.87078816 0.55257687]\n",
      " [0.43714503 0.23601845 0.88190753 0.39553216]\n",
      " [0.85044911 0.0404558  0.11608683 0.82637363]]\n",
      "0.9194954629925286\n"
     ]
    }
   ],
   "source": [
    "a = np.random.random((10, 4))\n",
    "print(a)\n",
    "print(a[4,2])"
   ]
  },
  {
   "cell_type": "code",
   "execution_count": 15,
   "metadata": {},
   "outputs": [
    {
     "name": "stdout",
     "output_type": "stream",
     "text": [
      "(10, 4)\n",
      "40\n"
     ]
    }
   ],
   "source": [
    "print(a.shape)\n",
    "print(a.size)"
   ]
  },
  {
   "cell_type": "markdown",
   "metadata": {},
   "source": [
    "As you can see, the array has a shape of 10 x 4 (just as we specified) and the total number of elements in the array is 40.\n",
    "\n",
    "Now that we have seen an example of a basic two-dimensional array (a matrix), let's learn about how creating arrays with more dimensions than two works in Numpy. Let's build a three-dimensional array of random numbers and see what that looks like."
   ]
  },
  {
   "cell_type": "code",
   "execution_count": 4,
   "metadata": {},
   "outputs": [
    {
     "name": "stdout",
     "output_type": "stream",
     "text": [
      "[[[0.58615633 0.23029211 0.56391826]\n",
      "  [0.55842817 0.67057053 0.25047113]]\n",
      "\n",
      " [[0.8252124  0.37463546 0.28652342]\n",
      "  [0.72188825 0.42848948 0.69567816]]\n",
      "\n",
      " [[0.55017748 0.86994334 0.19403444]\n",
      "  [0.70195685 0.64593199 0.69314794]]\n",
      "\n",
      " [[0.58680604 0.44701862 0.81384818]\n",
      "  [0.28155912 0.12848998 0.02404093]]\n",
      "\n",
      " [[0.07972219 0.28409489 0.16002088]\n",
      "  [0.51728844 0.55874111 0.59358025]]]\n"
     ]
    }
   ],
   "source": [
    "b = np.random.random((5,2,3))\n",
    "print(b)"
   ]
  },
  {
   "cell_type": "markdown",
   "metadata": {},
   "source": [
    "This created an array with five groups of 2 x 3 matrices. Let's see what happens if we pass four dimensions."
   ]
  },
  {
   "cell_type": "code",
   "execution_count": 21,
   "metadata": {},
   "outputs": [
    {
     "name": "stdout",
     "output_type": "stream",
     "text": [
      "[[[[0.62643946 0.27851307 0.58117972 0.73587203 0.31961167]\n",
      "   [0.94229607 0.98551614 0.79058785 0.41509194 0.14679954]\n",
      "   [0.31548099 0.5805298  0.44440953 0.43073553 0.27622464]\n",
      "   [0.19312716 0.45448599 0.49538295 0.78786879 0.98565136]]\n",
      "\n",
      "  [[0.48686153 0.64711787 0.03036345 0.47969532 0.07911916]\n",
      "   [0.29231743 0.44862923 0.85280806 0.52102654 0.42052264]\n",
      "   [0.53958152 0.56039179 0.34884484 0.72949811 0.3254782 ]\n",
      "   [0.05250738 0.82476892 0.04596381 0.26649059 0.81815953]]\n",
      "\n",
      "  [[0.61883896 0.73375534 0.31293983 0.97791184 0.27065942]\n",
      "   [0.99029945 0.14465222 0.23614678 0.83794704 0.22354398]\n",
      "   [0.94917776 0.89141061 0.70377579 0.35356408 0.00743566]\n",
      "   [0.90522689 0.7623024  0.59253035 0.6685817  0.35011062]]]\n",
      "\n",
      "\n",
      " [[[0.89524229 0.84386395 0.52263478 0.85130727 0.96397226]\n",
      "   [0.61078412 0.08645616 0.04142499 0.55510815 0.73033339]\n",
      "   [0.7672778  0.42960983 0.9673208  0.77698017 0.02869489]\n",
      "   [0.72831475 0.06795576 0.7785936  0.88402114 0.33714599]]\n",
      "\n",
      "  [[0.09150935 0.59433682 0.03337523 0.92569707 0.88057632]\n",
      "   [0.48350286 0.79061302 0.0328878  0.15172532 0.22696449]\n",
      "   [0.30103728 0.01110871 0.65439121 0.92849078 0.1468808 ]\n",
      "   [0.01284824 0.01455264 0.01619708 0.4467701  0.90452458]]\n",
      "\n",
      "  [[0.63766764 0.77131375 0.99999802 0.12743718 0.00900446]\n",
      "   [0.59079413 0.59759051 0.30703652 0.22460024 0.62970296]\n",
      "   [0.27225491 0.89994231 0.06342565 0.84133654 0.87042747]\n",
      "   [0.18318335 0.6572944  0.77257635 0.39756151 0.49018777]]]]\n"
     ]
    }
   ],
   "source": [
    "c = np.random.random((2,3,4,5))\n",
    "print(c)"
   ]
  },
  {
   "cell_type": "markdown",
   "metadata": {},
   "source": [
    "This time, we got two groups of three 4 x 5 matrices.\n",
    "\n",
    "\n",
    "# Extracting Data from Arrays\n",
    "\n",
    "Extracting elements from arrays works just like it does for other Python data structures. We just need to reference the indexes of the values we want to extract. Below are some examples of how to reference specific rows, columns, and values in a two dimensional array."
   ]
  },
  {
   "cell_type": "code",
   "execution_count": 22,
   "metadata": {},
   "outputs": [
    {
     "name": "stdout",
     "output_type": "stream",
     "text": [
      "[0.47087206 0.59447713 0.56540381 0.48400101]\n"
     ]
    }
   ],
   "source": [
    "# First row of matrix a\n",
    "print(a[0])"
   ]
  },
  {
   "cell_type": "code",
   "execution_count": 23,
   "metadata": {},
   "outputs": [
    {
     "name": "stdout",
     "output_type": "stream",
     "text": [
      "[0.47087206 0.85092629 0.6164351  0.75841745 0.35093649 0.06765598\n",
      " 0.83703934 0.41361242 0.43714503 0.85044911]\n"
     ]
    }
   ],
   "source": [
    "# First column of matrix a\n",
    "print(a[:,0])"
   ]
  },
  {
   "cell_type": "code",
   "execution_count": 24,
   "metadata": {},
   "outputs": [
    {
     "name": "stdout",
     "output_type": "stream",
     "text": [
      "0.9194954629925286\n"
     ]
    }
   ],
   "source": [
    "# Value in the fifth row and third column of matrix a\n",
    "print(a[4,2])"
   ]
  },
  {
   "cell_type": "markdown",
   "metadata": {},
   "source": [
    "What about arrays that have more than two dimensions? You just pass a list of indexes for the values you want, and it will return the corresponding dimensions or values."
   ]
  },
  {
   "cell_type": "code",
   "execution_count": 20,
   "metadata": {},
   "outputs": [
    {
     "ename": "NameError",
     "evalue": "name 'c' is not defined",
     "output_type": "error",
     "traceback": [
      "\u001b[1;31m---------------------------------------------------------------------------\u001b[0m",
      "\u001b[1;31mNameError\u001b[0m                                 Traceback (most recent call last)",
      "\u001b[1;32m<ipython-input-20-47c10fafa64e>\u001b[0m in \u001b[0;36m<module>\u001b[1;34m\u001b[0m\n\u001b[0;32m      1\u001b[0m \u001b[1;31m# First group of array c\u001b[0m\u001b[1;33m\u001b[0m\u001b[1;33m\u001b[0m\u001b[1;33m\u001b[0m\u001b[0m\n\u001b[1;32m----> 2\u001b[1;33m \u001b[0mprint\u001b[0m\u001b[1;33m(\u001b[0m\u001b[0mc\u001b[0m\u001b[1;33m[\u001b[0m\u001b[1;36m0\u001b[0m\u001b[1;33m]\u001b[0m\u001b[1;33m)\u001b[0m\u001b[1;33m\u001b[0m\u001b[1;33m\u001b[0m\u001b[0m\n\u001b[0m",
      "\u001b[1;31mNameError\u001b[0m: name 'c' is not defined"
     ]
    }
   ],
   "source": [
    "# First group of array c\n",
    "print(c[0])"
   ]
  },
  {
   "cell_type": "code",
   "execution_count": 33,
   "metadata": {},
   "outputs": [
    {
     "name": "stdout",
     "output_type": "stream",
     "text": [
      "[[0.48686153 0.64711787 0.03036345 0.47969532 0.07911916]\n",
      " [0.29231743 0.44862923 0.85280806 0.52102654 0.42052264]\n",
      " [0.53958152 0.56039179 0.34884484 0.72949811 0.3254782 ]\n",
      " [0.05250738 0.82476892 0.04596381 0.26649059 0.81815953]]\n"
     ]
    }
   ],
   "source": [
    "# Second subgroup of the first group\n",
    "print(c[0,1])"
   ]
  },
  {
   "cell_type": "code",
   "execution_count": 35,
   "metadata": {},
   "outputs": [
    {
     "name": "stdout",
     "output_type": "stream",
     "text": [
      "[0.53958152 0.56039179 0.34884484 0.72949811 0.3254782 ]\n"
     ]
    }
   ],
   "source": [
    "# Third row of the second subgroup\n",
    "print(c[0,1,2])"
   ]
  },
  {
   "cell_type": "code",
   "execution_count": 37,
   "metadata": {},
   "outputs": [
    {
     "name": "stdout",
     "output_type": "stream",
     "text": [
      "[[0.73587203 0.41509194 0.43073553 0.78786879]\n",
      " [0.47969532 0.52102654 0.72949811 0.26649059]\n",
      " [0.97791184 0.83794704 0.35356408 0.6685817 ]]\n"
     ]
    }
   ],
   "source": [
    "# Fourth column of the second subgroup\n",
    "print(c[0,:,:,3])"
   ]
  },
  {
   "cell_type": "code",
   "execution_count": 30,
   "metadata": {},
   "outputs": [
    {
     "name": "stdout",
     "output_type": "stream",
     "text": [
      "[[[0.48686153 0.64711787 0.03036345 0.47969532 0.07911916]\n",
      "  [0.29231743 0.44862923 0.85280806 0.52102654 0.42052264]\n",
      "  [0.53958152 0.56039179 0.34884484 0.72949811 0.3254782 ]\n",
      "  [0.05250738 0.82476892 0.04596381 0.26649059 0.81815953]]\n",
      "\n",
      " [[0.09150935 0.59433682 0.03337523 0.92569707 0.88057632]\n",
      "  [0.48350286 0.79061302 0.0328878  0.15172532 0.22696449]\n",
      "  [0.30103728 0.01110871 0.65439121 0.92849078 0.1468808 ]\n",
      "  [0.01284824 0.01455264 0.01619708 0.4467701  0.90452458]]]\n"
     ]
    }
   ],
   "source": [
    "print(c[0,1,])"
   ]
  },
  {
   "cell_type": "code",
   "execution_count": 13,
   "metadata": {},
   "outputs": [
    {
     "name": "stdout",
     "output_type": "stream",
     "text": [
      "0.0031234912340785126\n"
     ]
    }
   ],
   "source": [
    "# Value in the third row and fourth column of the second subgroup\n",
    "print(c[0,1,2,3])"
   ]
  },
  {
   "cell_type": "markdown",
   "metadata": {},
   "source": [
    "# Converting Other Data Structures to Arrays\n",
    "\n",
    "If you have data in another type of data structure and you would like to convert it to an array so that you can take advantage of Numpy's mathematical functions, you can convert them using the array() method as follows. "
   ]
  },
  {
   "cell_type": "code",
   "execution_count": 14,
   "metadata": {},
   "outputs": [
    {
     "name": "stdout",
     "output_type": "stream",
     "text": [
      "[[1 2 3]\n",
      " [4 5 6]\n",
      " [7 8 9]]\n"
     ]
    }
   ],
   "source": [
    "lst_lst = [[1,2,3],[4,5,6],[7,8,9]]\n",
    "d = np.array(lst_lst)\n",
    "print(d)"
   ]
  },
  {
   "cell_type": "markdown",
   "metadata": {},
   "source": [
    "This works the same way whether you have a list of lists, a list of tuples, a tuple of lists, or a tuple of tuples.\n",
    "\n",
    "\n",
    "\n",
    "\n",
    "# Numpy Math Functions\n",
    "\n",
    "Now that we know how to create and navigate arrays, let's take a look at how to perform mathematical calculations on them.\n",
    "\n",
    "One of the most common (and useful) functions is np.sum, which lets you obtain the sum of any elements you select from an array. "
   ]
  },
  {
   "cell_type": "code",
   "execution_count": 15,
   "metadata": {},
   "outputs": [
    {
     "name": "stdout",
     "output_type": "stream",
     "text": [
      "19.36106835210032\n"
     ]
    }
   ],
   "source": [
    "# Sum of all elements in matrix a\n",
    "print(np.sum(a))"
   ]
  },
  {
   "cell_type": "code",
   "execution_count": 16,
   "metadata": {},
   "outputs": [
    {
     "name": "stdout",
     "output_type": "stream",
     "text": [
      "[4.24922247 4.84808247 4.19116356 6.07259985]\n"
     ]
    }
   ],
   "source": [
    "# Sum of each column in matrix a\n",
    "print(np.sum(a, axis=0))"
   ]
  },
  {
   "cell_type": "code",
   "execution_count": 17,
   "metadata": {},
   "outputs": [
    {
     "name": "stdout",
     "output_type": "stream",
     "text": [
      "[2.02133856 2.52069422 0.87258152 1.81080946 2.14833568 2.25317913\n",
      " 1.67579268 1.75768512 2.43177063 1.86888134]\n"
     ]
    }
   ],
   "source": [
    "# Sum of each row in matrix a\n",
    "print(np.sum(a, axis=1))"
   ]
  },
  {
   "cell_type": "code",
   "execution_count": 18,
   "metadata": {},
   "outputs": [
    {
     "data": {
      "text/plain": [
       "6.192263715464242"
      ]
     },
     "execution_count": 18,
     "metadata": {},
     "output_type": "execute_result"
    }
   ],
   "source": [
    "# Sum of all the elements in the first two groups of array b\n",
    "np.sum(b[:2])"
   ]
  },
  {
   "cell_type": "markdown",
   "metadata": {},
   "source": [
    "The np.mean function works the same way and is also very useful. "
   ]
  },
  {
   "cell_type": "code",
   "execution_count": 19,
   "metadata": {},
   "outputs": [
    {
     "name": "stdout",
     "output_type": "stream",
     "text": [
      "0.48402670880250803\n"
     ]
    }
   ],
   "source": [
    "# Mean of all elements in matrix a\n",
    "print(np.mean(a))"
   ]
  },
  {
   "cell_type": "code",
   "execution_count": 20,
   "metadata": {},
   "outputs": [
    {
     "name": "stdout",
     "output_type": "stream",
     "text": [
      "[0.42492225 0.48480825 0.41911636 0.60725998]\n"
     ]
    }
   ],
   "source": [
    "# Mean of each column in matrix a\n",
    "print(np.mean(a, axis=0))"
   ]
  },
  {
   "cell_type": "code",
   "execution_count": 21,
   "metadata": {},
   "outputs": [
    {
     "name": "stdout",
     "output_type": "stream",
     "text": [
      "[0.50533464 0.63017356 0.21814538 0.45270236 0.53708392 0.56329478\n",
      " 0.41894817 0.43942128 0.60794266 0.46722034]\n"
     ]
    }
   ],
   "source": [
    "# Mean of each row in matrix a\n",
    "print(np.mean(a, axis=1))"
   ]
  },
  {
   "cell_type": "code",
   "execution_count": 22,
   "metadata": {},
   "outputs": [
    {
     "data": {
      "text/plain": [
       "0.5160219762886868"
      ]
     },
     "execution_count": 22,
     "metadata": {},
     "output_type": "execute_result"
    }
   ],
   "source": [
    "# Mean of all the elements in the first two groups of array b\n",
    "np.mean(b[:2])"
   ]
  },
  {
   "cell_type": "markdown",
   "metadata": {},
   "source": [
    "In addition to letting you perform calculations on individual arrays, Numpy also lets you perform calculations between arrays. For example, let's select two of the subarrays from array c to illustrate how this works."
   ]
  },
  {
   "cell_type": "code",
   "execution_count": 23,
   "metadata": {},
   "outputs": [
    {
     "name": "stdout",
     "output_type": "stream",
     "text": [
      "[[0.10435603 0.33964495 0.78070374 0.05694797 0.4615027 ]\n",
      " [0.01249393 0.01045173 0.70506115 0.73759791 0.79525957]\n",
      " [0.84101294 0.42813927 0.01949549 0.24258518 0.03320001]\n",
      " [0.90366433 0.33773876 0.02348868 0.37909198 0.80234439]]\n"
     ]
    }
   ],
   "source": [
    "x = c[0,0]\n",
    "print(x)"
   ]
  },
  {
   "cell_type": "code",
   "execution_count": 24,
   "metadata": {},
   "outputs": [
    {
     "name": "stdout",
     "output_type": "stream",
     "text": [
      "[[0.23794693 0.05076687 0.6384237  0.70165421 0.99322192]\n",
      " [0.1303115  0.68735812 0.99261499 0.40798406 0.50096881]\n",
      " [0.61471085 0.87350267 0.32639371 0.00312349 0.22981534]\n",
      " [0.36161069 0.87300582 0.27851529 0.62270584 0.26584262]]\n"
     ]
    }
   ],
   "source": [
    "y = c[0,1]\n",
    "print(y)"
   ]
  },
  {
   "cell_type": "markdown",
   "metadata": {},
   "source": [
    "We can now add, subtract, multiply, and divide the two arrays."
   ]
  },
  {
   "cell_type": "code",
   "execution_count": 25,
   "metadata": {},
   "outputs": [
    {
     "name": "stdout",
     "output_type": "stream",
     "text": [
      "[[0.34230296 0.39041182 1.41912744 0.75860217 1.45472462]\n",
      " [0.14280543 0.69780985 1.69767614 1.14558197 1.29622838]\n",
      " [1.45572379 1.30164194 0.3458892  0.24570867 0.26301535]\n",
      " [1.26527502 1.21074459 0.30200397 1.00179782 1.06818701]]\n"
     ]
    }
   ],
   "source": [
    "# Add elements of x and y together\n",
    "print(np.add(x, y))"
   ]
  },
  {
   "cell_type": "code",
   "execution_count": 26,
   "metadata": {},
   "outputs": [
    {
     "name": "stdout",
     "output_type": "stream",
     "text": [
      "[[ 0.1335909  -0.28887808 -0.14228004  0.64470624  0.53171923]\n",
      " [ 0.11781757  0.67690639  0.28755384 -0.32961385 -0.29429076]\n",
      " [-0.22630209  0.4453634   0.30689822 -0.23946169  0.19661534]\n",
      " [-0.54205363  0.53526706  0.25502661  0.24361386 -0.53650177]]\n"
     ]
    }
   ],
   "source": [
    "# Subtract elements of x from elements of y\n",
    "print(np.subtract(y, x))"
   ]
  },
  {
   "cell_type": "code",
   "execution_count": 27,
   "metadata": {},
   "outputs": [
    {
     "name": "stdout",
     "output_type": "stream",
     "text": [
      "[[0.0248312  0.01724271 0.49841977 0.03995778 0.4583746 ]\n",
      " [0.0016281  0.00718408 0.69985427 0.30092819 0.39840024]\n",
      " [0.51697978 0.3739808  0.0063632  0.00075771 0.00762987]\n",
      " [0.32677468 0.29484791 0.00654196 0.23606279 0.21329734]]\n"
     ]
    }
   ],
   "source": [
    "# Multiply elements of x and y together\n",
    "print(np.multiply(x, y))"
   ]
  },
  {
   "cell_type": "code",
   "execution_count": 28,
   "metadata": {},
   "outputs": [
    {
     "name": "stdout",
     "output_type": "stream",
     "text": [
      "[[2.28014553e+00 1.49470407e-01 8.17754116e-01 1.23209701e+01\n",
      "  2.15214760e+00]\n",
      " [1.04299858e+01 6.57650372e+01 1.40784241e+00 5.53125293e-01\n",
      "  6.29943771e-01]\n",
      " [7.30917229e-01 2.04023019e+00 1.67420134e+01 1.28758535e-02\n",
      "  6.92214751e+00]\n",
      " [4.00160418e-01 2.58485528e+00 1.18574268e+01 1.64262467e+00\n",
      "  3.31332313e-01]]\n"
     ]
    }
   ],
   "source": [
    "# Divide elements of y by elements of x\n",
    "print(np.divide(y, x))"
   ]
  },
  {
   "cell_type": "markdown",
   "metadata": {},
   "source": [
    "This is only the tip of the iceberg. Numpy has many more functions, which you can and should explore. You can read more about them in the [Numpy documentation](https://docs.scipy.org/doc/numpy-1.13.0/reference/routines.math.html). "
   ]
  },
  {
   "cell_type": "code",
   "execution_count": null,
   "metadata": {},
   "outputs": [],
   "source": []
  }
 ],
 "metadata": {
  "kernelspec": {
   "display_name": "Python 3",
   "language": "python",
   "name": "python3"
  },
  "language_info": {
   "codemirror_mode": {
    "name": "ipython",
    "version": 3
   },
   "file_extension": ".py",
   "mimetype": "text/x-python",
   "name": "python",
   "nbconvert_exporter": "python",
   "pygments_lexer": "ipython3",
   "version": "3.8.3"
  }
 },
 "nbformat": 4,
 "nbformat_minor": 2
}
